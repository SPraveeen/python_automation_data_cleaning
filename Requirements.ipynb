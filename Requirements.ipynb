{
 "cells": [
  {
   "cell_type": "markdown",
   "id": "4f476095-7568-4294-b3bc-a103e89ba1cf",
   "metadata": {},
   "source": [
    "<h4>create a python application that can take datasets and clean the data</h4>\n",
    " <li>It should ask for datasets path and name</li>\n",
    " <li>it should check number of duplicats and remove all the duplicates</li>\n",
    " <li>it should keep a copy of all the duplicates</li>\n",
    " <li>it should check for missing values</li>\n",
    " <li>if any column that is numeric it should replace nulls with mean else it should drop that rows</li>\n",
    " <li>at end it should save the data as clean data and also return</li>\n",
    " <li>duplicates records, clean_data</li>"
   ]
  },
  {
   "cell_type": "code",
   "execution_count": 4,
   "id": "5c544cec-00b8-4d47-acd8-b2c217051ea6",
   "metadata": {},
   "outputs": [
    {
     "name": "stdout",
     "output_type": "stream",
     "text": [
      "delaying by 6 sec\n"
     ]
    }
   ],
   "source": [
    "import time\n",
    "import random\n",
    "\n",
    "num=random.randint(1,9)\n",
    "print(f\"delaying by {num} sec\")\n",
    "time.sleep(num)"
   ]
  },
  {
   "cell_type": "code",
   "execution_count": null,
   "id": "f5cdd49f",
   "metadata": {},
   "outputs": [],
   "source": []
  }
 ],
 "metadata": {
  "kernelspec": {
   "display_name": "Python 3",
   "language": "python",
   "name": "python3"
  },
  "language_info": {
   "codemirror_mode": {
    "name": "ipython",
    "version": 3
   },
   "file_extension": ".py",
   "mimetype": "text/x-python",
   "name": "python",
   "nbconvert_exporter": "python",
   "pygments_lexer": "ipython3",
   "version": "3.13.3"
  }
 },
 "nbformat": 4,
 "nbformat_minor": 5
}
